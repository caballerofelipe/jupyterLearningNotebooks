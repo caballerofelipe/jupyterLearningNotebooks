{
 "cells": [
  {
   "cell_type": "markdown",
   "metadata": {},
   "source": [
    "# A TensorFlow very (very...) simple Linear Regression model"
   ]
  },
  {
   "cell_type": "markdown",
   "metadata": {},
   "source": [
    "## Prepare the notebook\n",
    "\n",
    "Import everything needed to run the notebook.\n",
    "\n",
    "To know what the `%matplotlib inline` command does check this [link](https://stackoverflow.com/questions/43027980/purpose-of-matplotlib-inline).\n",
    "\n",
    "The following libraries will also be imported:\n",
    "* numpy (as np as customary)\n",
    "* matplotlib.pyplot (as plt as customary)\n",
    "* tensorflow (as tf as customary)\n",
    "* ops to reset the graph"
   ]
  },
  {
   "cell_type": "code",
   "execution_count": 21,
   "metadata": {},
   "outputs": [],
   "source": [
    "%matplotlib inline\n",
    "import numpy as np\n",
    "import matplotlib.pyplot as plt\n",
    "import tensorflow as tf\n",
    "from tensorflow.python.framework import ops"
   ]
  },
  {
   "cell_type": "markdown",
   "metadata": {},
   "source": [
    "## Prepare the data\n",
    "\n",
    "The data used for this model was created using the Excel in the same directory as this notebook called linear_regression_data.xlsx . It will be imported as two numpy arrays."
   ]
  },
  {
   "cell_type": "code",
   "execution_count": 22,
   "metadata": {},
   "outputs": [],
   "source": [
    "x = np.array([\n",
    "    -7,\n",
    "    5,\n",
    "    7,\n",
    "    12,\n",
    "    2,\n",
    "    4,\n",
    "    5,\n",
    "    6,\n",
    "    19,\n",
    "    14,\n",
    "    16,\n",
    "    15,\n",
    "    11,\n",
    "    8,\n",
    "    18,\n",
    "    -2,\n",
    "    14,\n",
    "    17,\n",
    "    7,\n",
    "    17,\n",
    "])\n",
    "y = np.array([\n",
    "    -7.56,\n",
    "    21.01,\n",
    "    29.11,\n",
    "    47.89,\n",
    "    14.11,\n",
    "    16.69,\n",
    "    29.81,\n",
    "    28.67,\n",
    "    63.94,\n",
    "    54.8,\n",
    "    49.65,\n",
    "    52.26,\n",
    "    44.86,\n",
    "    40.45,\n",
    "    70.92,\n",
    "    -0.37,\n",
    "    44.34,\n",
    "    64.27,\n",
    "    32.85,\n",
    "    50.14,\n",
    "])"
   ]
  },
  {
   "cell_type": "markdown",
   "metadata": {},
   "source": [
    "### Check the data\n",
    "\n",
    "See the shape of the arrays and plot it."
   ]
  },
  {
   "cell_type": "code",
   "execution_count": 23,
   "metadata": {},
   "outputs": [
    {
     "name": "stdout",
     "output_type": "stream",
     "text": [
      "x.shape():\n",
      "(20,)\n",
      "y.shape():\n",
      "(20,)\n"
     ]
    },
    {
     "data": {
      "text/plain": [
       "<matplotlib.collections.PathCollection at 0x1220ad6a0>"
      ]
     },
     "execution_count": 23,
     "metadata": {},
     "output_type": "execute_result"
    },
    {
     "data": {
      "image/png": "[encoded data removed]",
      "text/plain": [
       "<Figure size 432x288 with 1 Axes>"
      ]
     },
     "metadata": {},
     "output_type": "display_data"
    }
   ],
   "source": [
    "print('x.shape():')\n",
    "print(x.shape)\n",
    "print('y.shape():')\n",
    "print(y.shape)\n",
    "plt.scatter(x, y)"
   ]
  },
  {
   "cell_type": "markdown",
   "metadata": {},
   "source": [
    "## TensorFlow model\n",
    "\n",
    "Now to the good stuff."
   ]
  },
  {
   "cell_type": "markdown",
   "metadata": {},
   "source": [
    "### Configurable options\n",
    "\n",
    "This are minimal configuration options. They can be changed to see possible different outcomes.\n",
    "\n",
    "For instance, changing learning_rate to a larger number (say 0.01) will stop the model from working because for each step of Gradient Descent it will go too far and make the cost larger."
   ]
  },
  {
   "cell_type": "code",
   "execution_count": 62,
   "metadata": {},
   "outputs": [],
   "source": [
    "# Config\n",
    "num_epochs = 1000\n",
    "learning_rate = 0.001\n",
    "# /Config"
   ]
  },
  {
   "cell_type": "markdown",
   "metadata": {},
   "source": [
    "### Creating the graph\n",
    "\n",
    "In TensorFlow's low level API you initially create a graph that contains the model's operations. In a further step this graph will be used to obtain the values to minimize the model's cost.\n",
    "\n",
    "`ops.reset_default_graph()` is needed to be allow this to be run multiple times.\n",
    "\n",
    "#### Placeholders for the data\n",
    "`X = tf.placeholder(tf.float32, name='X')` and `Y = tf.placeholder(tf.float32, name='Y')` create two placeholders that are used as parts of the model that will be replaced with data at runtime.\n",
    "\n",
    "#### Variables\n",
    "`a = tf.get_variable('a', initializer=0.)` and `b = tf.get_variable('b', initializer=0.)` are the variables for the model, they represent the key part to the inference process using an arbitrary new value for x.\n",
    "\n",
    "#### Cost\n",
    "`h` is the function that predicts the output based on a given x value using the data. Since the model is trying to fit a linear equation to predict y values according to arbitrary x values the equation is `h = a * x + b` but in this case X and Y will be used and the operation is a matrix multiplication. During the runtime X and Y will be replaced by the actual data.\n",
    "\n",
    "Since we are trying to fit a model to the data, we want to have a model that fits it most precisely. The common cost function for this model is:\n",
    "\\begin{equation*}\n",
    "J(a,b) = \\frac{1}{2m} \\sum_{i=1}^m (h(x_i) - y_i)^2\n",
    "\\end{equation*}\n",
    "\n",
    "But for simplicity reasons we'll use:\n",
    "\\begin{equation*}\n",
    "J(a,b) = \\sum_{i=1}^m (h(x_i) - y_i)^2\n",
    "\\end{equation*}\n",
    "\n",
    "Not dividing doesn't change its minimum points for a and b. So `cost = tf.reduce_mean( (h - Y)**2 )` represents the cost function.\n",
    "\n",
    "#### Gradient Descent Operation\n",
    "```\n",
    "optimizer = tf.train.GradientDescentOptimizer(\n",
    "    learning_rate=learning_rate\n",
    ").minimize(cost)\n",
    "```\n",
    "\n",
    "This code does 3 things:\n",
    "* Creates an optimizer that uses Gradient descent.\n",
    "* Calls the optimizer's minimize function telling it to minimize the cost.\n",
    "* Assigns this minimization to a variable called optimizer.\n",
    "\n",
    "#### Initialize variables operation\n",
    "`init = tf.global_variables_initializer()` is the initialization operation that will be executed later."
   ]
  },
  {
   "cell_type": "code",
   "execution_count": 63,
   "metadata": {},
   "outputs": [],
   "source": [
    "ops.reset_default_graph()\n",
    "\n",
    "X = tf.placeholder(tf.float32, name='X')\n",
    "Y = tf.placeholder(tf.float32, name='Y')\n",
    "\n",
    "a = tf.get_variable('a', initializer=0.)\n",
    "b = tf.get_variable('b', initializer=0.)\n",
    "\n",
    "h = a * X + b\n",
    "\n",
    "cost = tf.reduce_mean( (h - Y)**2 )\n",
    "\n",
    "optimizer = tf.train.GradientDescentOptimizer(\n",
    "    learning_rate=learning_rate\n",
    ").minimize(cost)\n",
    "\n",
    "init = tf.global_variables_initializer()"
   ]
  },
  {
   "cell_type": "markdown",
   "metadata": {},
   "source": [
    "### Running the Model\n",
    "\n",
    "#### Obtained a and b\n",
    "`found_a` and `found_b` are used to store values for a and b at a given point of the model run.\n",
    "\n",
    "#### Session\n",
    "To run the model we need to do it inside a session: `with tf.Session() as sess:`.\n",
    "\n",
    "#### Initializing variables\n",
    "We run the variable initialization: `sess.run(init)`.\n",
    "\n",
    "#### The actual training\n",
    "The model will use Gradient Descent several times, for this we put the operation in a loop: `for epoch in range(num_epochs):`.\n",
    "\n",
    "The following code will run one iteration of Gradient Descent, it needs the data that's why with `feed_dict` x and y are supplied (notice that X and Y are placeholders and x and y are the actual data).\n",
    "```\n",
    "_, costValue = sess.run(\n",
    "    [optimizer, cost],\n",
    "    feed_dict={\n",
    "        X: x,\n",
    "        Y: y,\n",
    "    }\n",
    ")\n",
    "```\n",
    "\n",
    "After every iteration we assign values to `found_a` and `found_b`.\n",
    "\n",
    "Every 10 percent of the num_epochs we print cost/a/b."
   ]
  },
  {
   "cell_type": "code",
   "execution_count": 65,
   "metadata": {
    "scrolled": true
   },
   "outputs": [
    {
     "name": "stdout",
     "output_type": "stream",
     "text": [
      "... epoch: 0\n",
      "cost[1824.1741] / a[0.980287] / b[0.074784]\n",
      "... epoch: 100\n",
      "cost[52.83136] / a[3.5395284] / b[0.91865784]\n",
      "... epoch: 200\n",
      "cost[48.979267] / a[3.4966853] / b[1.5373776]\n",
      "... epoch: 300\n",
      "cost[45.62937] / a[3.4567327] / b[2.1143577]\n",
      "... epoch: 400\n",
      "cost[42.716213] / a[3.4194753] / b[2.6524148]\n",
      "... epoch: 500\n",
      "cost[40.182854] / a[3.3847315] / b[3.1541722]\n",
      "... epoch: 600\n",
      "cost[37.979774] / a[3.3523312] / b[3.622081]\n",
      "... epoch: 700\n",
      "cost[36.063896] / a[3.3221169] / b[4.058425]\n",
      "... epoch: 800\n",
      "cost[34.397785] / a[3.2939405] / b[4.4653363]\n",
      "... epoch: 900\n",
      "cost[32.948906] / a[3.2676654] / b[4.844793]\n"
     ]
    }
   ],
   "source": [
    "found_a = 0\n",
    "found_b = 0\n",
    "\n",
    "with tf.Session() as sess:\n",
    "    sess.run(init)\n",
    "    for epoch in range(num_epochs):\n",
    "        _, costValue = sess.run(\n",
    "            [optimizer, cost],\n",
    "            feed_dict={\n",
    "                X: x,\n",
    "                Y: y,\n",
    "            }\n",
    "        )\n",
    "        found_a = a.eval()\n",
    "        found_b = b.eval()\n",
    "        if epoch % (num_epochs/10) == 0: # Every 10 percent\n",
    "            print(\"... epoch: \" + str(epoch))\n",
    "            print(f\"cost[{str(costValue)}] / a[{str(a.eval())}] / b[{str(b.eval())}]\")"
   ]
  },
  {
   "cell_type": "markdown",
   "metadata": {},
   "source": [
    "### Seing the obtained values in a plot"
   ]
  },
  {
   "cell_type": "code",
   "execution_count": 66,
   "metadata": {},
   "outputs": [
    {
     "data": {
      "image/png": "[encoded data removed]",
      "text/plain": [
       "<Figure size 432x288 with 1 Axes>"
      ]
     },
     "metadata": {},
     "output_type": "display_data"
    }
   ],
   "source": [
    "xrange = np.linspace(-10, 30, 2)\n",
    "\n",
    "# Plot points\n",
    "plt.plot(x, y, 'ro', xrange, xrange*found_a+found_b)\n",
    "\n",
    "# Plot resulting function\n",
    "plt.plot(xrange, xrange * found_a + found_b, 'b')\n",
    "\n",
    "plt.show()"
   ]
  },
  {
   "cell_type": "code",
   "execution_count": null,
   "metadata": {},
   "outputs": [],
   "source": []
  }
 ],
 "metadata": {
  "kernelspec": {
   "display_name": "Python 3",
   "language": "python",
   "name": "python3"
  },
  "language_info": {
   "codemirror_mode": {
    "name": "ipython",
    "version": 3
   },
   "file_extension": ".py",
   "mimetype": "text/x-python",
   "name": "python",
   "nbconvert_exporter": "python",
   "pygments_lexer": "ipython3",
   "version": "3.6.6"
  }
 },
 "nbformat": 4,
 "nbformat_minor": 2
}
