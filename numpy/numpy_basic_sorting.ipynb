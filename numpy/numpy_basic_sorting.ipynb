{
 "cells": [
  {
   "cell_type": "code",
   "execution_count": 4,
   "metadata": {},
   "outputs": [],
   "source": [
    "import numpy as np"
   ]
  },
  {
   "cell_type": "code",
   "execution_count": 5,
   "metadata": {},
   "outputs": [
    {
     "name": "stdout",
     "output_type": "stream",
     "text": [
      "... unsorted\n",
      "[[6 5 4]\n",
      " [3 2 1]]\n",
      "... sorted\n",
      "[[4 5 6]\n",
      " [1 2 3]]\n",
      "... sorted indexes\n",
      "[[2 1 0]\n",
      " [2 1 0]]\n",
      "[[2 1 0]\n",
      " [2 1 0]]\n",
      "... sorted indexes onlye first\n",
      "[2 1 0]\n"
     ]
    }
   ],
   "source": [
    "# Sorting a 2d array example\n",
    "unsorted2D = np.array([[6,5,4],[3,2,1]])\n",
    "print('... unsorted')\n",
    "print(unsorted2D)\n",
    "print('... sorted')\n",
    "print(np.sort(unsorted2D))\n",
    "print('... sorted indexes')\n",
    "print(np.argsort(unsorted2D))\n",
    "print(unsorted2D.argsort()) # Same as above\n",
    "print('... sorted indexes onlye first')\n",
    "print(unsorted2D.argsort()[0,:]) # Only first row"
   ]
  },
  {
   "cell_type": "code",
   "execution_count": 6,
   "metadata": {},
   "outputs": [
    {
     "name": "stdout",
     "output_type": "stream",
     "text": [
      "... unsorted xtmp\n",
      "[  8   4  16   7 -10   2   0   6  -2  13]\n",
      "... sorted xtmp\n",
      "[-10  -2   0   2   4   6   7   8  13  16]\n",
      "... sorted indexes xmp\n",
      "[4 8 6 5 1 7 3 0 9 2]\n",
      "[4 8 6 5 1 7 3 0 9 2]\n",
      "... unsorted ytmp\n",
      "[ -71.76  -18.39 -125.91  -57.91   92.27   -5.06  -21.87  -71.     -8.23\n",
      " -133.24]\n",
      "... sorted ytmp\n",
      "[  92.27   -8.23  -21.87   -5.06  -18.39  -71.    -57.91  -71.76 -133.24\n",
      " -125.91]\n",
      "[-10  -2   0   2   4   6   7   8  13  16]\n",
      "[  92.27   -8.23  -21.87   -5.06  -18.39  -71.    -57.91  -71.76 -133.24\n",
      " -125.91]\n"
     ]
    },
    {
     "data": {
      "text/plain": [
       "[<matplotlib.lines.Line2D at 0x118471630>]"
      ]
     },
     "execution_count": 6,
     "metadata": {},
     "output_type": "execute_result"
    },
    {
     "data": {
      "image/png": "[encoded data removed]",
      "text/plain": [
       "<Figure size 432x288 with 1 Axes>"
      ]
     },
     "metadata": {},
     "output_type": "display_data"
    }
   ],
   "source": [
    "# Sorting two 1D arrays accordingly\n",
    "xtmp = np.array([\n",
    "    8,\n",
    "    4,\n",
    "    16,\n",
    "    7,\n",
    "    -10,\n",
    "    2,\n",
    "    0,\n",
    "    6,\n",
    "    -2,\n",
    "    13,\n",
    "])\n",
    "ytmp = np.array([\n",
    "    -71.76,\n",
    "    -18.39,\n",
    "    -125.91,\n",
    "    -57.91,\n",
    "    92.27,\n",
    "    -5.06,\n",
    "    -21.87,\n",
    "    -71,\n",
    "    -8.23,\n",
    "    -133.24,\n",
    "])\n",
    "print('... unsorted xtmp')\n",
    "print(xtmp)\n",
    "print('... sorted xtmp')\n",
    "print(np.sort(xtmp))\n",
    "# Warning: xtmp.sort() sorts the array but changes the original\n",
    "print('... sorted indexes xmp')\n",
    "print(np.argsort(xtmp))\n",
    "print(xtmp.argsort()) # Same as above\n",
    "print('... unsorted ytmp')\n",
    "print(ytmp)\n",
    "print('... sorted ytmp')\n",
    "print(ytmp[xtmp.argsort()])\n",
    "xtmpSorted = np.sort(xtmp)\n",
    "ytmpSorted = ytmp[xtmp.argsort()]\n",
    "print(xtmpSorted)\n",
    "print(ytmpSorted)\n",
    "plt.plot(xtmp,ytmp)\n",
    "plt.plot(xtmpSorted,ytmpSorted, 'r')"
   ]
  },
  {
   "cell_type": "code",
   "execution_count": null,
   "metadata": {},
   "outputs": [],
   "source": []
  }
 ],
 "metadata": {
  "kernelspec": {
   "display_name": "Python 3",
   "language": "python",
   "name": "python3"
  },
  "language_info": {
   "codemirror_mode": {
    "name": "ipython",
    "version": 3
   },
   "file_extension": ".py",
   "mimetype": "text/x-python",
   "name": "python",
   "nbconvert_exporter": "python",
   "pygments_lexer": "ipython3",
   "version": "3.6.6"
  }
 },
 "nbformat": 4,
 "nbformat_minor": 2
}
