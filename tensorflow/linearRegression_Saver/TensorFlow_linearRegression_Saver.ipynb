{
 "cells": [
  {
   "cell_type": "code",
   "execution_count": null,
   "metadata": {},
   "outputs": [],
   "source": []
  },
  {
   "cell_type": "markdown",
   "metadata": {},
   "source": [
    "# Sources\n",
    "\n",
    "## Unnofficial tutorials\n",
    "* https://cv-tricks.com/tensorflow-tutorial/save-restore-tensorflow-models-quick-complete-tutorial/\n",
    "* https://stackabuse.com/tensorflow-save-and-restore-models/\n",
    "* https://medium.com/@jsflo.dev/saving-and-loading-a-tensorflow-model-using-the-savedmodel-api-17645576527\n",
    "* http://vict0rsch.github.io/2018/05/17/restore-tf-model-dataset/ (not great, too complex)\n",
    "\n",
    "## Official tutorials\n",
    "* https://www.tensorflow.org/guide/saved_model\n",
    "\n",
    "## From the API\n",
    "* https://www.tensorflow.org/api_docs/python/tf/train/Saver\n",
    "* https://www.tensorflow.org/api_docs/python/tf/train/latest_checkpoint\n",
    "* https://www.tensorflow.org/api_docs/python/tf/train/import_meta_graph\n",
    "* https://www.tensorflow.org/api_docs/python/tf/saved_model/loader\n",
    "\n",
    "## StackOverflow\n",
    "* https://stackoverflow.com/questions/52132450/in-tensorflows-low-level-api-is-it-possible-to-save-a-graph-with-an-optimizer/52132527 (FCG)\n",
    "* https://stackoverflow.com/questions/33759623/tensorflow-how-to-save-restore-a-model"
   ]
  },
  {
   "cell_type": "code",
   "execution_count": null,
   "metadata": {},
   "outputs": [],
   "source": []
  }
 ],
 "metadata": {
  "kernelspec": {
   "display_name": "Python 3",
   "language": "python",
   "name": "python3"
  },
  "language_info": {
   "codemirror_mode": {
    "name": "ipython",
    "version": 3
   },
   "file_extension": ".py",
   "mimetype": "text/x-python",
   "name": "python",
   "nbconvert_exporter": "python",
   "pygments_lexer": "ipython3",
   "version": "3.6.6"
  }
 },
 "nbformat": 4,
 "nbformat_minor": 2
}
